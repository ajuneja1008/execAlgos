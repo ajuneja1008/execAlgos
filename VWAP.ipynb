{
  "nbformat": 4,
  "nbformat_minor": 0,
  "metadata": {
    "colab": {
      "provenance": [],
      "authorship_tag": "ABX9TyNYwnBrNfb4Tj5Lqxj0R5M9"
    },
    "kernelspec": {
      "name": "python3",
      "display_name": "Python 3"
    },
    "language_info": {
      "name": "python"
    }
  },
  "cells": [
    {
      "cell_type": "markdown",
      "source": [
        "# Execution Algorithms: VWAP\n",
        "\n",
        "It is important to excercise caution while attempting to execute orders especially with large volumes in the financial markets, more so in case of instruments of low liquidity. A poorly executed trade can result in a large slippage and a simple solution can be to split a large order into many smaller orders over a period of time. \n",
        "\n",
        "A common approach to execute an order is to trade it on the volume weighted average price (VWAP) based on historical trading volumes.\n",
        "We create volume profiles over a time interval and submit orders at the VWAP of each of these intervals with a quantity that can be executed during that interval. The goal is to have an average execution price close to (or ideally better than) the VWAP of the instrument over the trading interval. \n",
        "\n",
        "\n",
        "Here we will look at 2 weeks of historical data for a ticker from 2021-10-25 until 2021-11-05. The last day, 2021-11-08, will be used for backtesting our execution strategy.\n",
        "\n",
        "The output of our execution algorithm will be a trading schedule to be followed over the course of the \"execution day\", our average execution price and the overall VWAP for the day.\n",
        "\n"
      ],
      "metadata": {
        "id": "c9wXHa4SVJtJ"
      }
    },
    {
      "cell_type": "code",
      "execution_count": 1,
      "metadata": {
        "colab": {
          "base_uri": "https://localhost:8080/"
        },
        "id": "4TxQ5TCT6BAI",
        "outputId": "f69aae51-28b5-48d0-caba-dca1783e6ed1"
      },
      "outputs": [
        {
          "output_type": "stream",
          "name": "stdout",
          "text": [
            "Mounted at /content/gdrive\n"
          ]
        }
      ],
      "source": [
        "import pandas as pd\n",
        "import numpy as np\n",
        "\n",
        "from google.colab import drive\n",
        "drive.mount('/content/gdrive')\n",
        "\n",
        "import matplotlib.pyplot as plt\n",
        "import datetime\n",
        "\n",
        "import warnings\n",
        "warnings.filterwarnings(\"ignore\")\n",
        "\n",
        "from IPython.core.interactiveshell import InteractiveShell\n",
        "InteractiveShell.ast_node_interactivity = \"all\""
      ]
    },
    {
      "cell_type": "code",
      "source": [
        "# Read the csv\n",
        "df = pd.read_csv('/content/gdrive/MyDrive/Interview Prep/Quant/Interview Archives/CLSA/Assignment/tick_data_sample.csv')"
      ],
      "metadata": {
        "id": "E1yrQpam6wBb"
      },
      "execution_count": 3,
      "outputs": []
    },
    {
      "cell_type": "markdown",
      "source": [
        "# 1. Data Pre-Processing\n",
        "\n",
        "\n",
        "\n",
        "**Data Formatting**\n",
        "\n",
        "We begin by formatting the data to a more usable format using the following steps:\n",
        "1.   Pivotting the key-value table on a fresh index which is unique for each record. \n",
        "2.   Casting certain columns to better suited data types.\n",
        "3.   Dropping redundant columns and reordering the rest. \n",
        "4.   We notice that data is already sorted on date and time_ns which is exactly what we need \n",
        "\n",
        "\n",
        "\n",
        "**Binning**\n",
        "\n",
        "1.   We create our bins on the time in seconds (300 seconds each) starting 32400 (seconds until 9:00 when trading begins) and ending with the last bin in the range (63000, 63300] which represents the seconds until 17:35 when the trading stops forming 103 bins in total 5-minute each.  \n",
        "2.   We notice some trades slightly overflowing the 17:35 time boundary which we categorise in the last bin (17:30, 17:35] as well.\n",
        "\n",
        "\n",
        "\n",
        "**Data Splitting**\n",
        "\n",
        "Lastly, we split our data into in-sample and out-sample for our backtest before we model it. \n",
        "\n",
        "1.   In-Sample Data (df_is): 2021-10-25 - 2021-11-05\n",
        "2.   Out-Sample Data (df_os): 2021-11-08 \n",
        "\n",
        "\n",
        "\n"
      ],
      "metadata": {
        "id": "ZCtbQ5Xd8JHL"
      }
    },
    {
      "cell_type": "code",
      "source": [
        "# Pivot the key-value table by generating a \"new index\" using groupby\n",
        "df['index'] = df.groupby(['key']).cumcount()\n",
        "df = df.pivot(index='index', columns='key', values='value')\n",
        "\n",
        "# Clean up the pivoted df: fix data types for columns, remove extra cols, re-order for readability\n",
        "df = df.rename_axis(None, axis=1)\n",
        "\n",
        "df = df.drop(['arrival_seqnb', 'exch_seqnb', 'msg_type', 'nb_ask', 'nb_bid'], axis=1)\n",
        "\n",
        "df['date'] = pd.to_datetime(df['date'], format='%y-%m-%d')\n",
        "df = df.astype({'time_ns':int, 'price':float, 'size':int})\n",
        "\n",
        "first_cols = ['date', 'trade_id']\n",
        "last_cols = [col for col in df.columns if col not in first_cols]\n",
        "df = df[first_cols + last_cols]"
      ],
      "metadata": {
        "id": "vxqy3QnY80rM"
      },
      "execution_count": 4,
      "outputs": []
    },
    {
      "cell_type": "code",
      "source": [
        "# Visualising the dates for which we have data and the number of trades for each of them\n",
        "df.groupby(['date'])['date'].count()\n",
        "\n",
        "# Visiualising the time_ns: Looks pre-sorted \n",
        "df.time_ns.plot()"
      ],
      "metadata": {
        "colab": {
          "base_uri": "https://localhost:8080/",
          "height": 516
        },
        "id": "lYBwao6qTr1L",
        "outputId": "d42fcff1-989a-405c-a8d4-844158a42576"
      },
      "execution_count": 5,
      "outputs": [
        {
          "output_type": "execute_result",
          "data": {
            "text/plain": [
              "date\n",
              "2021-10-25    21297\n",
              "2021-10-26    20604\n",
              "2021-10-27    12922\n",
              "2021-10-28    14358\n",
              "2021-10-29    16720\n",
              "2021-11-01    17438\n",
              "2021-11-02    16812\n",
              "2021-11-03    15940\n",
              "2021-11-04    17187\n",
              "2021-11-05    32004\n",
              "2021-11-08    23374\n",
              "Name: date, dtype: int64"
            ]
          },
          "metadata": {},
          "execution_count": 5
        },
        {
          "output_type": "execute_result",
          "data": {
            "text/plain": [
              "<matplotlib.axes._subplots.AxesSubplot at 0x7f7bd64820d0>"
            ]
          },
          "metadata": {},
          "execution_count": 5
        },
        {
          "output_type": "display_data",
          "data": {
            "text/plain": [
              "<Figure size 432x288 with 1 Axes>"
            ],
            "image/png": "[encoded data removed]"
          },
          "metadata": {
            "needs_background": "light"
          }
        }
      ]
    },
    {
      "cell_type": "code",
      "source": [
        "# Binning in 5 minute intervals\n",
        "df['time_s']  = df['time_ns']/1e9\n",
        "\n",
        "# Set up bins starting 9:00 - 9:05 (labelled 0) and ending 17:30 - 17:35 (labelled 102)\n",
        "bins = range(9*60*60, 17*60*60 + 40*60, 300)\n",
        "labels = range(len(bins)-1)\n",
        "df['bin'] = pd.cut(df['time_s'],bins, labels= labels)\n",
        "\n",
        "# Quick check to see if all of these non-binned indices are the \"slightly-overflowing\" EOD trades\n",
        "np.where((df[df['bin'].isnull()]['time_s'] - 17*60*60)/60 < 35)\n",
        "\n",
        "# Assign the above non-binned indices to the last bin\n",
        "df['bin'].fillna(value = labels[-1], inplace = True)"
      ],
      "metadata": {
        "colab": {
          "base_uri": "https://localhost:8080/"
        },
        "id": "0AZmSB1AfDt8",
        "outputId": "68fedc44-15f9-4e67-e1bf-5b753d3fcb97"
      },
      "execution_count": 6,
      "outputs": [
        {
          "output_type": "execute_result",
          "data": {
            "text/plain": [
              "(array([], dtype=int64),)"
            ]
          },
          "metadata": {},
          "execution_count": 6
        }
      ]
    },
    {
      "cell_type": "code",
      "source": [
        "# Segregate in-sample and out-sample data\n",
        "df_is = df[df['date']<'2021-11-08'].copy()\n",
        "df_os = df[df['date'] == '2021-11-08'].copy()"
      ],
      "metadata": {
        "id": "XU-u_bV86o43"
      },
      "execution_count": 7,
      "outputs": []
    },
    {
      "cell_type": "markdown",
      "source": [
        "# 2. VWAP Execution Modelling\n",
        "\n",
        "**Historical Volume Curve**\n",
        "\n",
        "We begin with building our historical volume curve df_vc which provides the average qty of the instrument traded in each bin over the past two weeks in the in-sample data df_is\n",
        "\n",
        "\n",
        "**VWAP Execution**\n",
        "\n",
        "We define a function vwap_exec which for a given set of inputs (below) executes the standard VWAP model. The different inputs in the function signature are discussed below:\n",
        "\n",
        "\n",
        "\n",
        "1.   **Historical Volume Curve (df_vc)**\n",
        "\n",
        "2.   **Out-Sample dataset (df_os)** : Dataset to run our back-test against. \n",
        "\n",
        "3.   **Quantity (qty)**: Desired quantity to buy/sell\n",
        "\n",
        "4.   **Base Participation Rate (bpr)** (optional argument): This represents the % of the total volume of each time window we would like to capture for our execution. Higher Values (~0.05) allow for aggressive executions - targetting order completion before EOD. \n",
        "In the default case (0), the algorithm tries to space volumes across all time periods with a very conservative bpr based on the historical volume curve. *bpr_default = qty / historical_daily_average_volume*\n",
        "\n",
        "5.   **Tolerance Limit (tl)** (optional argument): Sets an upper-cap to the bpr to limit the qty executed to avoid over-aggressive executions. \n",
        "We can end up with a high bpr if: \n",
        "\n",
        "          *   The default bpr calibrated was too high due to high qty\n",
        "          *   The passed bpr arg was low for the passed qty and hence the algorithm tried to increase it to execute the entire qty\n",
        "\n",
        "\n",
        "In either of the above cases, we do not want the bpr over a certain limit as we risk moving the markets and paying higher slippages. Tolerance Limit represents the extent to which we are willing to increase our bpr. Defaults to 0.5 (5%) implying the maximum possible bpr = 0.5\n",
        "\n",
        "\n",
        "\n",
        " \n",
        "\n",
        "\n"
      ],
      "metadata": {
        "id": "6Ziymef3E_RC"
      }
    },
    {
      "cell_type": "code",
      "source": [
        "# Setup the volume curve using the past two weeks data\n",
        "df_vc = df_is[['bin', 'size']].groupby(by = ['bin']).sum()/df_is['date'].nunique()"
      ],
      "metadata": {
        "id": "n6Q1c5xU7J2F"
      },
      "execution_count": 8,
      "outputs": []
    },
    {
      "cell_type": "code",
      "source": [
        "def vwap_exec(df_vc, df_os, qty, bpr=0, tl=0.1):\n",
        "  \n",
        "  hist_avg_vol = df_vc['size'].sum()\n",
        "\n",
        "  # Check if the bpr arg was not passed and defaulted to 0\n",
        "  if bpr == 0:\n",
        "    # Set a default value based on historical volume curve\n",
        "    bpr = qty / hist_avg_vol\n",
        "\n",
        "  # If a bpr arg was passed but it is low to accomodate the entire qty adjust it accordingly\n",
        "  elif (qty > bpr*hist_avg_vol):\n",
        "    bpr = qty / hist_avg_vol\n",
        "\n",
        "  # Check if the bpr callibrated above is beyond the accepted tolerance limit. Hard Limit it to tl\n",
        "  if bpr > tl:\n",
        "    bpr = tl # Re-adjust the bpr to its max limit\n",
        "    qty = bpr*hist_avg_vol # re-adjust qty to its max limit given bpr == tl\n",
        "    print(\"The given qty can't be executed to full for the chosen bpr and tl, re-adjusting to \" + str(qty))\n",
        "\n",
        "  print(\"Computing for bpr: \" + str(bpr) + ', tl: ' + str(tl) + ', qty: ' + str(qty))\n",
        "\n",
        "\n",
        "  # Define participation sizes for each window based on the base participation rate\n",
        "  df_vc['part_size'] = bpr*(df_vc['size'].values)\n",
        "  df_vc['cum_part_size'] = df_vc['part_size'].cumsum()\n",
        "\n",
        "  # Find the window where the cumulative participation size >= qty marking the end our execution window\n",
        "  idx = df_vc['cum_part_size'].ge(qty).idxmax()\n",
        "\n",
        "  #Setup an execution profile based on the windows we intend to participate on \"idx\" given our bpr and tl\n",
        "  df_vc = df_vc.loc[df_vc.index <= idx]\n",
        "  df_vc['exec_size'] = df_vc['part_size'].values\n",
        "\n",
        "  # Remove the surplus quantity (if present) from the last execution window\n",
        "  df_vc.at[df_vc.index[-1], 'exec_size'] = (df_vc.at[df_vc.index[-1], 'exec_size'] - (df_vc.at[df_vc.index[-1], 'cum_part_size'] - qty))\n",
        "\n",
        "  df_os['price_vol'] = df_os['price']*df_os['size']\n",
        "\n",
        "  # Setting up our final execution dataframe to be output\n",
        "  df_exec = df_os[['bin','price_vol','size']].groupby(by = ['bin']).sum().copy()\n",
        "\n",
        "  # Calculate the bin VWAP to estimate the execution price for each bins\n",
        "  df_exec['vwap'] = df_exec['price_vol']/df_exec['size']\n",
        "\n",
        "  # Join the volume profile modelled using the historical volume curve (df_vc) to be executed in each time bin on '2021-11-08' (df_exec) \n",
        "  df_exec = df_exec.join(df_vc['exec_size'])\n",
        "  df_exec['exec_size'].fillna(value = 0, inplace = True)\n",
        "\n",
        "\n",
        "  return df_exec"
      ],
      "metadata": {
        "id": "sZ2u_1Qg43Lv"
      },
      "execution_count": 9,
      "outputs": []
    },
    {
      "cell_type": "markdown",
      "source": [
        "# 3. Model Evaluation\n",
        "\n",
        "We execute the model with our parameters as described below.\n",
        "An **interesting choice** here is that we run the model with the default base participation rate as the assignment does not mention any aggressiveness desired for a different bpr.\n",
        "\n",
        "We space our execution around the entire day. \n",
        "\n",
        "It appears that our execution VWAP was actually higher than the VWAP for the entire day by 6.7 bips. \n",
        "\n",
        "\n",
        "\n",
        "**Volume Slippage**\n",
        "\n",
        "I'm not perfectly clear by what's meant with volume slippage so it is interpreted as the difference of the target volume and the actual available volume for the time period which in our case is zero as ample volume is availabe for each time bin. "
      ],
      "metadata": {
        "id": "f17DmzLhZ-hl"
      }
    },
    {
      "cell_type": "code",
      "source": [
        "# Run the execution model back-tester\n",
        "df_exec = vwap_exec(df_vc, df_os, 20000)\n",
        "\n",
        "# Calculate the Total Execution VWAP\n",
        "df_exec['exec_price_vol'] = df_exec['vwap']*df_exec['exec_size']\n",
        "exec_vwap = df_exec['exec_price_vol'].sum()/df_exec['exec_size'].sum()\n",
        "\n",
        "# Calculate the entire day VWAP for '2021-11-08'\n",
        "day_vwap = df_exec['price_vol'].sum()/df_exec['size'].sum()\n",
        "\n",
        "# Calculate the volume slippage\n",
        "df_exec['vol_slippage'] = np.maximum(0, df_exec['exec_size'] - df_exec['size'])\n"
      ],
      "metadata": {
        "colab": {
          "base_uri": "https://localhost:8080/"
        },
        "id": "2hd4VB-PcVw8",
        "outputId": "3167f417-0f6b-45b9-b813-1dc293d5d84e"
      },
      "execution_count": 10,
      "outputs": [
        {
          "output_type": "stream",
          "name": "stdout",
          "text": [
            "Computing for bpr: 0.013942234395032158, tl: 0.1, qty: 20000\n"
          ]
        }
      ]
    },
    {
      "cell_type": "code",
      "source": [
        "df_exec.head(5)\n",
        "df_exec.tail(5)"
      ],
      "metadata": {
        "colab": {
          "base_uri": "https://localhost:8080/",
          "height": 458
        },
        "id": "pFFlq5aqYcpM",
        "outputId": "c37ff62c-5b00-4458-b3f8-fb2561c4ad7d"
      },
      "execution_count": 13,
      "outputs": [
        {
          "output_type": "execute_result",
          "data": {
            "text/plain": [
              "      price_vol   size        vwap   exec_size  exec_price_vol  vol_slippage\n",
              "bin                                                                         \n",
              "0    5027684.30  45740  109.918765  661.278783    72686.947002           0.0\n",
              "1    1454952.94  13214  110.106928  202.092688    22251.804897           0.0\n",
              "2    2472084.74  22463  110.051406  237.211782    26105.490178           0.0\n",
              "3     637989.46   5797  110.055108  147.711002    16256.350283           0.0\n",
              "4    1459007.42  13278  109.881565  163.029335    17913.918495           0.0"
            ],
            "text/html": [
              "\n",
              "  <div id=\"df-ecf2952b-ccc6-4452-b21b-978df13ea89c\">\n",
              "    <div class=\"colab-df-container\">\n",
              "      <div>\n",
              "<style scoped>\n",
              "    .dataframe tbody tr th:only-of-type {\n",
              "        vertical-align: middle;\n",
              "    }\n",
              "\n",
              "    .dataframe tbody tr th {\n",
              "        vertical-align: top;\n",
              "    }\n",
              "\n",
              "    .dataframe thead th {\n",
              "        text-align: right;\n",
              "    }\n",
              "</style>\n",
              "<table border=\"1\" class=\"dataframe\">\n",
              "  <thead>\n",
              "    <tr style=\"text-align: right;\">\n",
              "      <th></th>\n",
              "      <th>price_vol</th>\n",
              "      <th>size</th>\n",
              "      <th>vwap</th>\n",
              "      <th>exec_size</th>\n",
              "      <th>exec_price_vol</th>\n",
              "      <th>vol_slippage</th>\n",
              "    </tr>\n",
              "    <tr>\n",
              "      <th>bin</th>\n",
              "      <th></th>\n",
              "      <th></th>\n",
              "      <th></th>\n",
              "      <th></th>\n",
              "      <th></th>\n",
              "      <th></th>\n",
              "    </tr>\n",
              "  </thead>\n",
              "  <tbody>\n",
              "    <tr>\n",
              "      <th>0</th>\n",
              "      <td>5027684.30</td>\n",
              "      <td>45740</td>\n",
              "      <td>109.918765</td>\n",
              "      <td>661.278783</td>\n",
              "      <td>72686.947002</td>\n",
              "      <td>0.0</td>\n",
              "    </tr>\n",
              "    <tr>\n",
              "      <th>1</th>\n",
              "      <td>1454952.94</td>\n",
              "      <td>13214</td>\n",
              "      <td>110.106928</td>\n",
              "      <td>202.092688</td>\n",
              "      <td>22251.804897</td>\n",
              "      <td>0.0</td>\n",
              "    </tr>\n",
              "    <tr>\n",
              "      <th>2</th>\n",
              "      <td>2472084.74</td>\n",
              "      <td>22463</td>\n",
              "      <td>110.051406</td>\n",
              "      <td>237.211782</td>\n",
              "      <td>26105.490178</td>\n",
              "      <td>0.0</td>\n",
              "    </tr>\n",
              "    <tr>\n",
              "      <th>3</th>\n",
              "      <td>637989.46</td>\n",
              "      <td>5797</td>\n",
              "      <td>110.055108</td>\n",
              "      <td>147.711002</td>\n",
              "      <td>16256.350283</td>\n",
              "      <td>0.0</td>\n",
              "    </tr>\n",
              "    <tr>\n",
              "      <th>4</th>\n",
              "      <td>1459007.42</td>\n",
              "      <td>13278</td>\n",
              "      <td>109.881565</td>\n",
              "      <td>163.029335</td>\n",
              "      <td>17913.918495</td>\n",
              "      <td>0.0</td>\n",
              "    </tr>\n",
              "  </tbody>\n",
              "</table>\n",
              "</div>\n",
              "      <button class=\"colab-df-convert\" onclick=\"convertToInteractive('df-ecf2952b-ccc6-4452-b21b-978df13ea89c')\"\n",
              "              title=\"Convert this dataframe to an interactive table.\"\n",
              "              style=\"display:none;\">\n",
              "        \n",
              "  <svg xmlns=\"http://www.w3.org/2000/svg\" height=\"24px\"viewBox=\"0 0 24 24\"\n",
              "       width=\"24px\">\n",
              "    <path d=\"M0 0h24v24H0V0z\" fill=\"none\"/>\n",
              "    <path d=\"M18.56 5.44l.94 2.06.94-2.06 2.06-.94-2.06-.94-.94-2.06-.94 2.06-2.06.94zm-11 1L8.5 8.5l.94-2.06 2.06-.94-2.06-.94L8.5 2.5l-.94 2.06-2.06.94zm10 10l.94 2.06.94-2.06 2.06-.94-2.06-.94-.94-2.06-.94 2.06-2.06.94z\"/><path d=\"M17.41 7.96l-1.37-1.37c-.4-.4-.92-.59-1.43-.59-.52 0-1.04.2-1.43.59L10.3 9.45l-7.72 7.72c-.78.78-.78 2.05 0 2.83L4 21.41c.39.39.9.59 1.41.59.51 0 1.02-.2 1.41-.59l7.78-7.78 2.81-2.81c.8-.78.8-2.07 0-2.86zM5.41 20L4 18.59l7.72-7.72 1.47 1.35L5.41 20z\"/>\n",
              "  </svg>\n",
              "      </button>\n",
              "      \n",
              "  <style>\n",
              "    .colab-df-container {\n",
              "      display:flex;\n",
              "      flex-wrap:wrap;\n",
              "      gap: 12px;\n",
              "    }\n",
              "\n",
              "    .colab-df-convert {\n",
              "      background-color: #E8F0FE;\n",
              "      border: none;\n",
              "      border-radius: 50%;\n",
              "      cursor: pointer;\n",
              "      display: none;\n",
              "      fill: #1967D2;\n",
              "      height: 32px;\n",
              "      padding: 0 0 0 0;\n",
              "      width: 32px;\n",
              "    }\n",
              "\n",
              "    .colab-df-convert:hover {\n",
              "      background-color: #E2EBFA;\n",
              "      box-shadow: 0px 1px 2px rgba(60, 64, 67, 0.3), 0px 1px 3px 1px rgba(60, 64, 67, 0.15);\n",
              "      fill: #174EA6;\n",
              "    }\n",
              "\n",
              "    [theme=dark] .colab-df-convert {\n",
              "      background-color: #3B4455;\n",
              "      fill: #D2E3FC;\n",
              "    }\n",
              "\n",
              "    [theme=dark] .colab-df-convert:hover {\n",
              "      background-color: #434B5C;\n",
              "      box-shadow: 0px 1px 3px 1px rgba(0, 0, 0, 0.15);\n",
              "      filter: drop-shadow(0px 1px 2px rgba(0, 0, 0, 0.3));\n",
              "      fill: #FFFFFF;\n",
              "    }\n",
              "  </style>\n",
              "\n",
              "      <script>\n",
              "        const buttonEl =\n",
              "          document.querySelector('#df-ecf2952b-ccc6-4452-b21b-978df13ea89c button.colab-df-convert');\n",
              "        buttonEl.style.display =\n",
              "          google.colab.kernel.accessAllowed ? 'block' : 'none';\n",
              "\n",
              "        async function convertToInteractive(key) {\n",
              "          const element = document.querySelector('#df-ecf2952b-ccc6-4452-b21b-978df13ea89c');\n",
              "          const dataTable =\n",
              "            await google.colab.kernel.invokeFunction('convertToInteractive',\n",
              "                                                     [key], {});\n",
              "          if (!dataTable) return;\n",
              "\n",
              "          const docLinkHtml = 'Like what you see? Visit the ' +\n",
              "            '<a target=\"_blank\" href=https://colab.research.google.com/notebooks/data_table.ipynb>data table notebook</a>'\n",
              "            + ' to learn more about interactive tables.';\n",
              "          element.innerHTML = '';\n",
              "          dataTable['output_type'] = 'display_data';\n",
              "          await google.colab.output.renderOutput(dataTable, element);\n",
              "          const docLink = document.createElement('div');\n",
              "          docLink.innerHTML = docLinkHtml;\n",
              "          element.appendChild(docLink);\n",
              "        }\n",
              "      </script>\n",
              "    </div>\n",
              "  </div>\n",
              "  "
            ]
          },
          "metadata": {},
          "execution_count": 13
        },
        {
          "output_type": "execute_result",
          "data": {
            "text/plain": [
              "       price_vol    size        vwap    exec_size  exec_price_vol  \\\n",
              "bin                                                                 \n",
              "98    2085005.60   19152  108.866207   128.215576    13958.343455   \n",
              "99    2545309.04   23408  108.736716   121.602774    13222.686278   \n",
              "100   2583135.90   23762  108.708690   203.058884    22074.265386   \n",
              "101   2620846.26   24115  108.681164   184.538020    20055.806765   \n",
              "102  63566789.58  584361  108.780000  7563.429324   822749.841864   \n",
              "\n",
              "     vol_slippage  \n",
              "bin                \n",
              "98            0.0  \n",
              "99            0.0  \n",
              "100           0.0  \n",
              "101           0.0  \n",
              "102           0.0  "
            ],
            "text/html": [
              "\n",
              "  <div id=\"df-e96567f1-8d11-4232-aa03-2c087ce5ca77\">\n",
              "    <div class=\"colab-df-container\">\n",
              "      <div>\n",
              "<style scoped>\n",
              "    .dataframe tbody tr th:only-of-type {\n",
              "        vertical-align: middle;\n",
              "    }\n",
              "\n",
              "    .dataframe tbody tr th {\n",
              "        vertical-align: top;\n",
              "    }\n",
              "\n",
              "    .dataframe thead th {\n",
              "        text-align: right;\n",
              "    }\n",
              "</style>\n",
              "<table border=\"1\" class=\"dataframe\">\n",
              "  <thead>\n",
              "    <tr style=\"text-align: right;\">\n",
              "      <th></th>\n",
              "      <th>price_vol</th>\n",
              "      <th>size</th>\n",
              "      <th>vwap</th>\n",
              "      <th>exec_size</th>\n",
              "      <th>exec_price_vol</th>\n",
              "      <th>vol_slippage</th>\n",
              "    </tr>\n",
              "    <tr>\n",
              "      <th>bin</th>\n",
              "      <th></th>\n",
              "      <th></th>\n",
              "      <th></th>\n",
              "      <th></th>\n",
              "      <th></th>\n",
              "      <th></th>\n",
              "    </tr>\n",
              "  </thead>\n",
              "  <tbody>\n",
              "    <tr>\n",
              "      <th>98</th>\n",
              "      <td>2085005.60</td>\n",
              "      <td>19152</td>\n",
              "      <td>108.866207</td>\n",
              "      <td>128.215576</td>\n",
              "      <td>13958.343455</td>\n",
              "      <td>0.0</td>\n",
              "    </tr>\n",
              "    <tr>\n",
              "      <th>99</th>\n",
              "      <td>2545309.04</td>\n",
              "      <td>23408</td>\n",
              "      <td>108.736716</td>\n",
              "      <td>121.602774</td>\n",
              "      <td>13222.686278</td>\n",
              "      <td>0.0</td>\n",
              "    </tr>\n",
              "    <tr>\n",
              "      <th>100</th>\n",
              "      <td>2583135.90</td>\n",
              "      <td>23762</td>\n",
              "      <td>108.708690</td>\n",
              "      <td>203.058884</td>\n",
              "      <td>22074.265386</td>\n",
              "      <td>0.0</td>\n",
              "    </tr>\n",
              "    <tr>\n",
              "      <th>101</th>\n",
              "      <td>2620846.26</td>\n",
              "      <td>24115</td>\n",
              "      <td>108.681164</td>\n",
              "      <td>184.538020</td>\n",
              "      <td>20055.806765</td>\n",
              "      <td>0.0</td>\n",
              "    </tr>\n",
              "    <tr>\n",
              "      <th>102</th>\n",
              "      <td>63566789.58</td>\n",
              "      <td>584361</td>\n",
              "      <td>108.780000</td>\n",
              "      <td>7563.429324</td>\n",
              "      <td>822749.841864</td>\n",
              "      <td>0.0</td>\n",
              "    </tr>\n",
              "  </tbody>\n",
              "</table>\n",
              "</div>\n",
              "      <button class=\"colab-df-convert\" onclick=\"convertToInteractive('df-e96567f1-8d11-4232-aa03-2c087ce5ca77')\"\n",
              "              title=\"Convert this dataframe to an interactive table.\"\n",
              "              style=\"display:none;\">\n",
              "        \n",
              "  <svg xmlns=\"http://www.w3.org/2000/svg\" height=\"24px\"viewBox=\"0 0 24 24\"\n",
              "       width=\"24px\">\n",
              "    <path d=\"M0 0h24v24H0V0z\" fill=\"none\"/>\n",
              "    <path d=\"M18.56 5.44l.94 2.06.94-2.06 2.06-.94-2.06-.94-.94-2.06-.94 2.06-2.06.94zm-11 1L8.5 8.5l.94-2.06 2.06-.94-2.06-.94L8.5 2.5l-.94 2.06-2.06.94zm10 10l.94 2.06.94-2.06 2.06-.94-2.06-.94-.94-2.06-.94 2.06-2.06.94z\"/><path d=\"M17.41 7.96l-1.37-1.37c-.4-.4-.92-.59-1.43-.59-.52 0-1.04.2-1.43.59L10.3 9.45l-7.72 7.72c-.78.78-.78 2.05 0 2.83L4 21.41c.39.39.9.59 1.41.59.51 0 1.02-.2 1.41-.59l7.78-7.78 2.81-2.81c.8-.78.8-2.07 0-2.86zM5.41 20L4 18.59l7.72-7.72 1.47 1.35L5.41 20z\"/>\n",
              "  </svg>\n",
              "      </button>\n",
              "      \n",
              "  <style>\n",
              "    .colab-df-container {\n",
              "      display:flex;\n",
              "      flex-wrap:wrap;\n",
              "      gap: 12px;\n",
              "    }\n",
              "\n",
              "    .colab-df-convert {\n",
              "      background-color: #E8F0FE;\n",
              "      border: none;\n",
              "      border-radius: 50%;\n",
              "      cursor: pointer;\n",
              "      display: none;\n",
              "      fill: #1967D2;\n",
              "      height: 32px;\n",
              "      padding: 0 0 0 0;\n",
              "      width: 32px;\n",
              "    }\n",
              "\n",
              "    .colab-df-convert:hover {\n",
              "      background-color: #E2EBFA;\n",
              "      box-shadow: 0px 1px 2px rgba(60, 64, 67, 0.3), 0px 1px 3px 1px rgba(60, 64, 67, 0.15);\n",
              "      fill: #174EA6;\n",
              "    }\n",
              "\n",
              "    [theme=dark] .colab-df-convert {\n",
              "      background-color: #3B4455;\n",
              "      fill: #D2E3FC;\n",
              "    }\n",
              "\n",
              "    [theme=dark] .colab-df-convert:hover {\n",
              "      background-color: #434B5C;\n",
              "      box-shadow: 0px 1px 3px 1px rgba(0, 0, 0, 0.15);\n",
              "      filter: drop-shadow(0px 1px 2px rgba(0, 0, 0, 0.3));\n",
              "      fill: #FFFFFF;\n",
              "    }\n",
              "  </style>\n",
              "\n",
              "      <script>\n",
              "        const buttonEl =\n",
              "          document.querySelector('#df-e96567f1-8d11-4232-aa03-2c087ce5ca77 button.colab-df-convert');\n",
              "        buttonEl.style.display =\n",
              "          google.colab.kernel.accessAllowed ? 'block' : 'none';\n",
              "\n",
              "        async function convertToInteractive(key) {\n",
              "          const element = document.querySelector('#df-e96567f1-8d11-4232-aa03-2c087ce5ca77');\n",
              "          const dataTable =\n",
              "            await google.colab.kernel.invokeFunction('convertToInteractive',\n",
              "                                                     [key], {});\n",
              "          if (!dataTable) return;\n",
              "\n",
              "          const docLinkHtml = 'Like what you see? Visit the ' +\n",
              "            '<a target=\"_blank\" href=https://colab.research.google.com/notebooks/data_table.ipynb>data table notebook</a>'\n",
              "            + ' to learn more about interactive tables.';\n",
              "          element.innerHTML = '';\n",
              "          dataTable['output_type'] = 'display_data';\n",
              "          await google.colab.output.renderOutput(dataTable, element);\n",
              "          const docLink = document.createElement('div');\n",
              "          docLink.innerHTML = docLinkHtml;\n",
              "          element.appendChild(docLink);\n",
              "        }\n",
              "      </script>\n",
              "    </div>\n",
              "  </div>\n",
              "  "
            ]
          },
          "metadata": {},
          "execution_count": 13
        }
      ]
    },
    {
      "cell_type": "code",
      "source": [
        "print(\"The execution VWAP price is: \" + str(exec_vwap))\n",
        "print(\"The VWAP for the day is: \" + str(day_vwap)) \n",
        "print(\"The bips difference is: \" + str((exec_vwap - day_vwap)*1e4/day_vwap))\n",
        "print(\"The volume slippage is: \" + str(df_exec['vol_slippage'].sum()))"
      ],
      "metadata": {
        "colab": {
          "base_uri": "https://localhost:8080/"
        },
        "id": "vHoaC2HKRXN1",
        "outputId": "46f19a6d-7f05-4023-cc04-70a62aeb0651"
      },
      "execution_count": 14,
      "outputs": [
        {
          "output_type": "stream",
          "name": "stdout",
          "text": [
            "The execution VWAP price is: 109.2328859253725\n",
            "The VWAP for the day is: 109.15971371358529\n",
            "The bips difference is: 6.703224962571795\n",
            "The volume slippage is: 0.0\n"
          ]
        }
      ]
    },
    {
      "cell_type": "markdown",
      "source": [
        "# 3. Closing Thoughts: Scalability\n",
        "\n",
        "As we notice all operations are vectorised so they should be as quick as python can get. \n",
        "We could not notice any pain points with the data we have which are computationally intensive. \n",
        "One candidate could be the binning with pd.cut which can be further optimised using a \"numba loop\"  \n"
      ],
      "metadata": {
        "id": "DYZnoGJzjcvl"
      }
    }
  ]
}